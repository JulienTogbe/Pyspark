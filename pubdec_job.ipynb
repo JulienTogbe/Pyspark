{
 "cells": [
  {
   "cell_type": "code",
   "execution_count": 2,
   "id": "0ad67e89",
   "metadata": {},
   "outputs": [],
   "source": [
    "import pyspark\n",
    "import pandas as pd"
   ]
  },
  {
   "cell_type": "code",
   "execution_count": 3,
   "id": "cc5fe526",
   "metadata": {},
   "outputs": [],
   "source": [
    "from pyspark.sql import SparkSession\n",
    "import pyspark.sql.functions as F"
   ]
  },
  {
   "cell_type": "code",
   "execution_count": 4,
   "id": "189d6786",
   "metadata": {},
   "outputs": [],
   "source": [
    "spark=SparkSession.builder.appName('Dataframe').getOrCreate()"
   ]
  },
  {
   "cell_type": "code",
   "execution_count": 5,
   "id": "c8b67791",
   "metadata": {},
   "outputs": [
    {
     "data": {
      "text/html": [
       "\n",
       "            <div>\n",
       "                <p><b>SparkSession - in-memory</b></p>\n",
       "                \n",
       "        <div>\n",
       "            <p><b>SparkContext</b></p>\n",
       "\n",
       "            <p><a href=\"http://DESKTOP-H86FAAV:4040\">Spark UI</a></p>\n",
       "\n",
       "            <dl>\n",
       "              <dt>Version</dt>\n",
       "                <dd><code>v3.5.0</code></dd>\n",
       "              <dt>Master</dt>\n",
       "                <dd><code>local[*]</code></dd>\n",
       "              <dt>AppName</dt>\n",
       "                <dd><code>Dataframe</code></dd>\n",
       "            </dl>\n",
       "        </div>\n",
       "        \n",
       "            </div>\n",
       "        "
      ],
      "text/plain": [
       "<pyspark.sql.session.SparkSession at 0x2932d9b15d0>"
      ]
     },
     "execution_count": 5,
     "metadata": {},
     "output_type": "execute_result"
    }
   ],
   "source": [
    "spark"
   ]
  },
  {
   "cell_type": "code",
   "execution_count": 6,
   "id": "f228f1cd",
   "metadata": {},
   "outputs": [],
   "source": [
    "import pandas as pd"
   ]
  },
  {
   "cell_type": "code",
   "execution_count": 7,
   "id": "833fdff5",
   "metadata": {},
   "outputs": [],
   "source": [
    "jul=pd.read_csv('dec17pub.dat')"
   ]
  },
  {
   "cell_type": "code",
   "execution_count": 8,
   "id": "c369d159",
   "metadata": {},
   "outputs": [
    {
     "data": {
      "text/html": [
       "<div>\n",
       "<style scoped>\n",
       "    .dataframe tbody tr th:only-of-type {\n",
       "        vertical-align: middle;\n",
       "    }\n",
       "\n",
       "    .dataframe tbody tr th {\n",
       "        vertical-align: top;\n",
       "    }\n",
       "\n",
       "    .dataframe thead th {\n",
       "        text-align: right;\n",
       "    }\n",
       "</style>\n",
       "<table border=\"1\" class=\"dataframe\">\n",
       "  <thead>\n",
       "    <tr style=\"text-align: right;\">\n",
       "      <th></th>\n",
       "      <th>000004795110719122017 120100-1 1 1-1 1 9-1-1-1  14394041 1 2 1 7 2 0 206011 2  2-1-1-1-1 36 01 266200001103000   -1-1 1-1710 1 2 1 1-1 242 1-1 9-1 1-1 1 1 1 2 1 2 57 57 57 1 0 0 1 6 2-1-1 2-1-1-1-1 1-1-1-1-1-1-1-1-1-1-1-1-1 -1-1-1-1-1-1-1-1-1-1-1 -1-1-1   -1-1-1-1-1-1-1-1-1-1-1-1-1 -1-1-1-1-1-1-1-1-1-1-1-1-1-1-1-1-1-1-1-1-1-1-1-1-1-1-1-1-1 -1-1-1-1-1-1-1-1-1-1-1-1-1-1-1-1-1-1-1-1-1-1 2-1 0 4-1-1-1-1-1-1 -1-1-1 0 1 2-1-1-1-1-1-1-1-1      -1-1      -1-1-1 0-1-1-1-1-1-1-1-1-1-1-1-1-1-1-1-1-1-1-1 0-1-1-1-1  -1  -1  -1  -10-1      -10-1-1      -1      -10-1-1-1-1-1-1-1-1 2-1-1-1-1  14394041  31009204         0  21825725  21562240 0 0 0-1-1-1 0 0 1 0-1 050 0 0 0 0 0 0 0 0-1-1-1 0 0 0 1-1-1-1-1-1-1 1-1-1-1-1-1-1-1-1-1-1-1-1-1-1-1-1-1-1-1-1 1 1 1 1 1 1 1 1 1 1 1-1-1-1-1-1-1-1-1-1-1-1 0 0-1-1-1-1-1-1 1 1 1-1-1-1   84 1-1-1 3-1-1-1 1 1 0-1-1-1  22089944  -1  -1  -1  -1-1-1 4 3-1-1 0-1-1-1-1-15050 1 1 1 2 2 2 1 2 2 1 0 0 0 0 0 0 0-1-1-1-1-1 2-1-120 0 0                                            A</th>\n",
       "    </tr>\n",
       "  </thead>\n",
       "  <tbody>\n",
       "    <tr>\n",
       "      <th>0</th>\n",
       "      <td>000004795110719122017 120100-1 1 1-1 1 9-1-1-1...</td>\n",
       "    </tr>\n",
       "    <tr>\n",
       "      <th>1</th>\n",
       "      <td>000071691004941122017 120100-1 1 1-1 111-1-1-1...</td>\n",
       "    </tr>\n",
       "    <tr>\n",
       "      <th>2</th>\n",
       "      <td>000071691004941122017 120100-1 1 1-1 111-1-1-1...</td>\n",
       "    </tr>\n",
       "    <tr>\n",
       "      <th>3</th>\n",
       "      <td>000071691004941122017 120100-1 1 1-1 111-1-1-1...</td>\n",
       "    </tr>\n",
       "    <tr>\n",
       "      <th>4</th>\n",
       "      <td>000110177987986122017 120100-1 1 1-1 114-1-1-1...</td>\n",
       "    </tr>\n",
       "    <tr>\n",
       "      <th>5</th>\n",
       "      <td>000110177987986122017 120100-1 1 1-1 114-1-1-1...</td>\n",
       "    </tr>\n",
       "    <tr>\n",
       "      <th>6</th>\n",
       "      <td>000110206593381122017-121301-1 1-1-1 0-1 4-1-1...</td>\n",
       "    </tr>\n",
       "    <tr>\n",
       "      <th>7</th>\n",
       "      <td>000110284815680122017 120100-1 1 1-1 1 9-1-1-1...</td>\n",
       "    </tr>\n",
       "    <tr>\n",
       "      <th>8</th>\n",
       "      <td>000110327856469122017 120100-1 1 1-1 1 5-1-1-1...</td>\n",
       "    </tr>\n",
       "    <tr>\n",
       "      <th>9</th>\n",
       "      <td>000110339935453122017 120100-1 1 1-1 111-1-1-1...</td>\n",
       "    </tr>\n",
       "  </tbody>\n",
       "</table>\n",
       "</div>"
      ],
      "text/plain": [
       "  000004795110719122017 120100-1 1 1-1 1 9-1-1-1  14394041 1 2 1 7 2 0 206011 2  2-1-1-1-1 36 01 266200001103000   -1-1 1-1710 1 2 1 1-1 242 1-1 9-1 1-1 1 1 1 2 1 2 57 57 57 1 0 0 1 6 2-1-1 2-1-1-1-1 1-1-1-1-1-1-1-1-1-1-1-1-1 -1-1-1-1-1-1-1-1-1-1-1 -1-1-1   -1-1-1-1-1-1-1-1-1-1-1-1-1 -1-1-1-1-1-1-1-1-1-1-1-1-1-1-1-1-1-1-1-1-1-1-1-1-1-1-1-1-1 -1-1-1-1-1-1-1-1-1-1-1-1-1-1-1-1-1-1-1-1-1-1 2-1 0 4-1-1-1-1-1-1 -1-1-1 0 1 2-1-1-1-1-1-1-1-1      -1-1      -1-1-1 0-1-1-1-1-1-1-1-1-1-1-1-1-1-1-1-1-1-1-1 0-1-1-1-1  -1  -1  -1  -10-1      -10-1-1      -1      -10-1-1-1-1-1-1-1-1 2-1-1-1-1  14394041  31009204         0  21825725  21562240 0 0 0-1-1-1 0 0 1 0-1 050 0 0 0 0 0 0 0 0-1-1-1 0 0 0 1-1-1-1-1-1-1 1-1-1-1-1-1-1-1-1-1-1-1-1-1-1-1-1-1-1-1-1 1 1 1 1 1 1 1 1 1 1 1-1-1-1-1-1-1-1-1-1-1-1 0 0-1-1-1-1-1-1 1 1 1-1-1-1   84 1-1-1 3-1-1-1 1 1 0-1-1-1  22089944  -1  -1  -1  -1-1-1 4 3-1-1 0-1-1-1-1-15050 1 1 1 2 2 2 1 2 2 1 0 0 0 0 0 0 0-1-1-1-1-1 2-1-120 0 0                                            A\n",
       "0  000004795110719122017 120100-1 1 1-1 1 9-1-1-1...                                                                                                                                                                                                                                                                                                                                                                                                                                                                                                                                                                                                                                                                                                                                                                                                                                                                                                                                                                                      \n",
       "1  000071691004941122017 120100-1 1 1-1 111-1-1-1...                                                                                                                                                                                                                                                                                                                                                                                                                                                                                                                                                                                                                                                                                                                                                                                                                                                                                                                                                                                      \n",
       "2  000071691004941122017 120100-1 1 1-1 111-1-1-1...                                                                                                                                                                                                                                                                                                                                                                                                                                                                                                                                                                                                                                                                                                                                                                                                                                                                                                                                                                                      \n",
       "3  000071691004941122017 120100-1 1 1-1 111-1-1-1...                                                                                                                                                                                                                                                                                                                                                                                                                                                                                                                                                                                                                                                                                                                                                                                                                                                                                                                                                                                      \n",
       "4  000110177987986122017 120100-1 1 1-1 114-1-1-1...                                                                                                                                                                                                                                                                                                                                                                                                                                                                                                                                                                                                                                                                                                                                                                                                                                                                                                                                                                                      \n",
       "5  000110177987986122017 120100-1 1 1-1 114-1-1-1...                                                                                                                                                                                                                                                                                                                                                                                                                                                                                                                                                                                                                                                                                                                                                                                                                                                                                                                                                                                      \n",
       "6  000110206593381122017-121301-1 1-1-1 0-1 4-1-1...                                                                                                                                                                                                                                                                                                                                                                                                                                                                                                                                                                                                                                                                                                                                                                                                                                                                                                                                                                                      \n",
       "7  000110284815680122017 120100-1 1 1-1 1 9-1-1-1...                                                                                                                                                                                                                                                                                                                                                                                                                                                                                                                                                                                                                                                                                                                                                                                                                                                                                                                                                                                      \n",
       "8  000110327856469122017 120100-1 1 1-1 1 5-1-1-1...                                                                                                                                                                                                                                                                                                                                                                                                                                                                                                                                                                                                                                                                                                                                                                                                                                                                                                                                                                                      \n",
       "9  000110339935453122017 120100-1 1 1-1 111-1-1-1...                                                                                                                                                                                                                                                                                                                                                                                                                                                                                                                                                                                                                                                                                                                                                                                                                                                                                                                                                                                      "
      ]
     },
     "execution_count": 8,
     "metadata": {},
     "output_type": "execute_result"
    }
   ],
   "source": [
    "jul.head(10)"
   ]
  },
  {
   "cell_type": "code",
   "execution_count": 9,
   "id": "5346ffbc",
   "metadata": {},
   "outputs": [],
   "source": [
    "# Specify the path to your CSV file\n",
    "csv_file_path = 'C:/Users/NB/Documents/PythonProjects/dec17pub.dat'\n",
    "\n",
    "column_locations = {\n",
    "    'HRHHID': (1, 14), \n",
    "    'HRMMYYYY': (15, 21),\n",
    "    'HUFINAL': (24, 26),\n",
    "    'HEHOUSUT': (31, 32),\n",
    "    'HRHTYPE': (61, 62),\n",
    "    'HETELHHD': (33, 34),\n",
    "    'HETELAVL': (35, 36),\n",
    "    'HEPHONEO': (37, 38),\n",
    "    'HUINTTYP':(61, 66),\n",
    "    'HEFAMINC': (39, 40),\n",
    "    'GEDIV': (91, 91),\n",
    "    'PTDTRACE': (139, 140)\n",
    "    \n",
    "}"
   ]
  },
  {
   "cell_type": "code",
   "execution_count": 10,
   "id": "8cf27931",
   "metadata": {},
   "outputs": [
    {
     "name": "stdout",
     "output_type": "stream",
     "text": [
      "Table data:\n",
      "      HRHHID  HRMMYYYY  HUFINAL  HEHOUSUT  HRHTYPE  HETELHHD  HETELAVL  HEPHONEO HUINTTYP  HEFAMINC  GEDIV  PTDTRACE\n",
      "  479511071    122017        1         1        1         1         1         1    1 7 2         9    NaN         1\n",
      "  479511071    122017        1         1        1         1         1         1    1 7 2         9    NaN         1\n",
      " 7169100494    122017        1         1        1         1         1         1    1 5 1         1    NaN         1\n",
      " 7169100494    122017        1         1        1         1         1         1    1 5 1         1    NaN         1\n",
      " 7169100494    122017        1         1        1         1         1         1    1 5 1         1    NaN         1\n",
      "11017798798    122017        1         1        1         1         1         1    1 1 1         4    NaN         2\n",
      "11017798798    122017        1         1        1         1         1         1    1 1 1         4    NaN         2\n",
      "11020659338    122017       13         1        0         1         1         0    0 1 1         1    NaN         1\n",
      "11028481568    122017        1         1        7         1         1         1    7 1 1         9    NaN         1\n",
      "11032785646    122017        1         1        7         1         1         1    7 5 1         5    NaN         2\n",
      "\n",
      "List data: [Pandas(HRHHID=479511071, HRMMYYYY=122017, HUFINAL=1, HEHOUSUT=1, HRHTYPE=1, HETELHHD=1, HETELAVL=1, HEPHONEO=1, HUINTTYP='1 7 2', HEFAMINC=9, GEDIV=nan, PTDTRACE=1), Pandas(HRHHID=479511071, HRMMYYYY=122017, HUFINAL=1, HEHOUSUT=1, HRHTYPE=1, HETELHHD=1, HETELAVL=1, HEPHONEO=1, HUINTTYP='1 7 2', HEFAMINC=9, GEDIV=nan, PTDTRACE=1), Pandas(HRHHID=7169100494, HRMMYYYY=122017, HUFINAL=1, HEHOUSUT=1, HRHTYPE=1, HETELHHD=1, HETELAVL=1, HEPHONEO=1, HUINTTYP='1 5 1', HEFAMINC=1, GEDIV=nan, PTDTRACE=1), Pandas(HRHHID=7169100494, HRMMYYYY=122017, HUFINAL=1, HEHOUSUT=1, HRHTYPE=1, HETELHHD=1, HETELAVL=1, HEPHONEO=1, HUINTTYP='1 5 1', HEFAMINC=1, GEDIV=nan, PTDTRACE=1), Pandas(HRHHID=7169100494, HRMMYYYY=122017, HUFINAL=1, HEHOUSUT=1, HRHTYPE=1, HETELHHD=1, HETELAVL=1, HEPHONEO=1, HUINTTYP='1 5 1', HEFAMINC=1, GEDIV=nan, PTDTRACE=1), Pandas(HRHHID=11017798798, HRMMYYYY=122017, HUFINAL=1, HEHOUSUT=1, HRHTYPE=1, HETELHHD=1, HETELAVL=1, HEPHONEO=1, HUINTTYP='1 1 1', HEFAMINC=4, GEDIV=nan, PTDTRACE=2), Pandas(HRHHID=11017798798, HRMMYYYY=122017, HUFINAL=1, HEHOUSUT=1, HRHTYPE=1, HETELHHD=1, HETELAVL=1, HEPHONEO=1, HUINTTYP='1 1 1', HEFAMINC=4, GEDIV=nan, PTDTRACE=2), Pandas(HRHHID=11020659338, HRMMYYYY=122017, HUFINAL=13, HEHOUSUT=1, HRHTYPE=0, HETELHHD=1, HETELAVL=1, HEPHONEO=0, HUINTTYP='0 1 1', HEFAMINC=1, GEDIV=nan, PTDTRACE=1), Pandas(HRHHID=11028481568, HRMMYYYY=122017, HUFINAL=1, HEHOUSUT=1, HRHTYPE=7, HETELHHD=1, HETELAVL=1, HEPHONEO=1, HUINTTYP='7 1 1', HEFAMINC=9, GEDIV=nan, PTDTRACE=1), Pandas(HRHHID=11032785646, HRMMYYYY=122017, HUFINAL=1, HEHOUSUT=1, HRHTYPE=7, HETELHHD=1, HETELAVL=1, HEPHONEO=1, HUINTTYP='7 5 1', HEFAMINC=5, GEDIV=nan, PTDTRACE=2)]\n",
      "\n",
      "HTML table generated!\n",
      " <table border=\"1\" class=\"dataframe\">\n",
      "  <thead>\n",
      "    <tr style=\"text-align: right;\">\n",
      "      <th></th>\n",
      "      <th>HRHHID</th>\n",
      "      <th>HRMMYYYY</th>\n",
      "      <th>HUFINAL</th>\n",
      "      <th>HEHOUSUT</th>\n",
      "      <th>HRHTYPE</th>\n",
      "      <th>HETELHHD</th>\n",
      "      <th>HETELAVL</th>\n",
      "      <th>HEPHONEO</th>\n",
      "      <th>HUINTTYP</th>\n",
      "      <th>HEFAMINC</th>\n",
      "      <th>GEDIV</th>\n",
      "      <th>PTDTRACE</th>\n",
      "    </tr>\n",
      "  </thead>\n",
      "  <tbody>\n",
      "    <tr>\n",
      "      <th>0</th>\n",
      "      <td>479511071</td>\n",
      "      <td>122017</td>\n",
      "      <td>1</td>\n",
      "      <td>1</td>\n",
      "      <td>1</td>\n",
      "      <td>1</td>\n",
      "      <td>1</td>\n",
      "      <td>1</td>\n",
      "      <td>1 7 2</td>\n",
      "      <td>9</td>\n",
      "      <td>NaN</td>\n",
      "      <td>1</td>\n",
      "    </tr>\n",
      "    <tr>\n",
      "      <th>1</th>\n",
      "      <td>479511071</td>\n",
      "      <td>122017</td>\n",
      "      <td>1</td>\n",
      "      <td>1</td>\n",
      "      <td>1</td>\n",
      "      <td>1</td>\n",
      "      <td>1</td>\n",
      "      <td>1</td>\n",
      "      <td>1 7 2</td>\n",
      "      <td>9</td>\n",
      "      <td>NaN</td>\n",
      "      <td>1</td>\n",
      "    </tr>\n",
      "    <tr>\n",
      "      <th>2</th>\n",
      "      <td>7169100494</td>\n",
      "      <td>122017</td>\n",
      "      <td>1</td>\n",
      "      <td>1</td>\n",
      "      <td>1</td>\n",
      "      <td>1</td>\n",
      "      <td>1</td>\n",
      "      <td>1</td>\n",
      "      <td>1 5 1</td>\n",
      "      <td>1</td>\n",
      "      <td>NaN</td>\n",
      "      <td>1</td>\n",
      "    </tr>\n",
      "    <tr>\n",
      "      <th>3</th>\n",
      "      <td>7169100494</td>\n",
      "      <td>122017</td>\n",
      "      <td>1</td>\n",
      "      <td>1</td>\n",
      "      <td>1</td>\n",
      "      <td>1</td>\n",
      "      <td>1</td>\n",
      "      <td>1</td>\n",
      "      <td>1 5 1</td>\n",
      "      <td>1</td>\n",
      "      <td>NaN</td>\n",
      "      <td>1</td>\n",
      "    </tr>\n",
      "    <tr>\n",
      "      <th>4</th>\n",
      "      <td>7169100494</td>\n",
      "      <td>122017</td>\n",
      "      <td>1</td>\n",
      "      <td>1</td>\n",
      "      <td>1</td>\n",
      "      <td>1</td>\n",
      "      <td>1</td>\n",
      "      <td>1</td>\n",
      "      <td>1 5 1</td>\n",
      "      <td>1</td>\n",
      "      <td>NaN</td>\n",
      "      <td>1</td>\n",
      "    </tr>\n",
      "    <tr>\n",
      "      <th>5</th>\n",
      "      <td>11017798798</td>\n",
      "      <td>122017</td>\n",
      "      <td>1</td>\n",
      "      <td>1</td>\n",
      "      <td>1</td>\n",
      "      <td>1</td>\n",
      "      <td>1</td>\n",
      "      <td>1</td>\n",
      "      <td>1 1 1</td>\n",
      "      <td>4</td>\n",
      "      <td>NaN</td>\n",
      "      <td>2</td>\n",
      "    </tr>\n",
      "    <tr>\n",
      "      <th>6</th>\n",
      "      <td>11017798798</td>\n",
      "      <td>122017</td>\n",
      "      <td>1</td>\n",
      "      <td>1</td>\n",
      "      <td>1</td>\n",
      "      <td>1</td>\n",
      "      <td>1</td>\n",
      "      <td>1</td>\n",
      "      <td>1 1 1</td>\n",
      "      <td>4</td>\n",
      "      <td>NaN</td>\n",
      "      <td>2</td>\n",
      "    </tr>\n",
      "    <tr>\n",
      "      <th>7</th>\n",
      "      <td>11020659338</td>\n",
      "      <td>122017</td>\n",
      "      <td>13</td>\n",
      "      <td>1</td>\n",
      "      <td>0</td>\n",
      "      <td>1</td>\n",
      "      <td>1</td>\n",
      "      <td>0</td>\n",
      "      <td>0 1 1</td>\n",
      "      <td>1</td>\n",
      "      <td>NaN</td>\n",
      "      <td>1</td>\n",
      "    </tr>\n",
      "    <tr>\n",
      "      <th>8</th>\n",
      "      <td>11028481568</td>\n",
      "      <td>122017</td>\n",
      "      <td>1</td>\n",
      "      <td>1</td>\n",
      "      <td>7</td>\n",
      "      <td>1</td>\n",
      "      <td>1</td>\n",
      "      <td>1</td>\n",
      "      <td>7 1 1</td>\n",
      "      <td>9</td>\n",
      "      <td>NaN</td>\n",
      "      <td>1</td>\n",
      "    </tr>\n",
      "    <tr>\n",
      "      <th>9</th>\n",
      "      <td>11032785646</td>\n",
      "      <td>122017</td>\n",
      "      <td>1</td>\n",
      "      <td>1</td>\n",
      "      <td>7</td>\n",
      "      <td>1</td>\n",
      "      <td>1</td>\n",
      "      <td>1</td>\n",
      "      <td>7 5 1</td>\n",
      "      <td>5</td>\n",
      "      <td>NaN</td>\n",
      "      <td>2</td>\n",
      "    </tr>\n",
      "  </tbody>\n",
      "</table>\n"
     ]
    }
   ],
   "source": [
    "# Read the fixed-width file using pandas read_fwf\n",
    "extracted_data = pd.read_fwf(csv_file_path, colspecs=list(column_locations.values()), header=None, names=column_locations.keys())\n",
    "#total_hefaminc = extracted_data['HEFAMINC'].astype(int).sum()\n",
    "\n",
    "#print(f'Total of the column HEFAMINC: {total_hefaminc}')\n",
    " \n",
    "# Export the extracted data to a CSV file\n",
    "extracted_data.to_csv('C:/Users/NB/Documents/PythonProjects/output.csv', index=False)\n",
    "\n",
    "# Print table data using `to_string` with formatting options\n",
    "print(\"Table data:\\n\", extracted_data.head(10).to_string(index=False))\n",
    "\n",
    "# Print extracted data as a list\n",
    "print(\"\\nList data:\", list(extracted_data.head(10).itertuples(index=False)))\n",
    "\n",
    "# Trying to view data in a table\n",
    "if __name__ == \"__main__\":\n",
    "    html_table = extracted_data.head(10).to_html()\n",
    "    with open(\"C:/Users/NB/Documents/PythonProjects/output.html\", \"w\") as f:\n",
    "        f.write(html_table)\n",
    "    print(\"\\nHTML table generated!\\n\", html_table)\n",
    "    "
   ]
  },
  {
   "cell_type": "code",
   "execution_count": 21,
   "id": "8e511575",
   "metadata": {},
   "outputs": [
    {
     "name": "stdout",
     "output_type": "stream",
     "text": [
      "+-----------+--------+-------+--------+-------+--------+--------+--------+--------+--------+-----+--------+\n",
      "|     HRHHID|HRMMYYYY|HUFINAL|HEHOUSUT|HRHTYPE|HETELHHD|HETELAVL|HEPHONEO|HUINTTYP|HEFAMINC|GEDIV|PTDTRACE|\n",
      "+-----------+--------+-------+--------+-------+--------+--------+--------+--------+--------+-----+--------+\n",
      "|  479511071|  122017|      1|       1|      1|       1|       1|       1|   1 7 2|       9| NULL|       1|\n",
      "|  479511071|  122017|      1|       1|      1|       1|       1|       1|   1 7 2|       9| NULL|       1|\n",
      "| 7169100494|  122017|      1|       1|      1|       1|       1|       1|   1 5 1|       1| NULL|       1|\n",
      "| 7169100494|  122017|      1|       1|      1|       1|       1|       1|   1 5 1|       1| NULL|       1|\n",
      "| 7169100494|  122017|      1|       1|      1|       1|       1|       1|   1 5 1|       1| NULL|       1|\n",
      "|11017798798|  122017|      1|       1|      1|       1|       1|       1|   1 1 1|       4| NULL|       2|\n",
      "|11017798798|  122017|      1|       1|      1|       1|       1|       1|   1 1 1|       4| NULL|       2|\n",
      "|11020659338|  122017|     13|       1|      0|       1|       1|       0|   0 1 1|       1| NULL|       1|\n",
      "|11028481568|  122017|      1|       1|      7|       1|       1|       1|   7 1 1|       9| NULL|       1|\n",
      "|11032785646|  122017|      1|       1|      7|       1|       1|       1|   7 5 1|       5| NULL|       2|\n",
      "|11033993545|  122017|      1|       1|      4|       1|       1|       1|   4 3 2|       1| NULL|       2|\n",
      "|11033993545|  122017|      1|       1|      4|       1|       1|       1|   4 3 2|       1| NULL|       2|\n",
      "|11033993545|  122017|      1|       1|      4|       1|       1|       1|   4 3 2|       1| NULL|       2|\n",
      "|11033993545|  122017|      1|       1|      4|       1|       1|       1|   4 3 2|       1| NULL|       2|\n",
      "|11034386856|  122017|      1|       1|      1|       1|       1|       0|   1 8 1|       4| NULL|       1|\n",
      "|11034386856|  122017|      1|       1|      1|       1|       1|       0|   1 8 1|       4| NULL|       1|\n",
      "|11035942433|  122017|      1|       1|      4|       1|       1|       1|   4 3 1|       3| NULL|       2|\n",
      "|11035942433|  122017|      1|       1|      4|       1|       1|       1|   4 3 1|       3| NULL|       2|\n",
      "|11041540042|  122017|      1|       1|      1|       1|       1|       1|   1 8 1|       0| NULL|       1|\n",
      "|11041540042|  122017|      1|       1|      1|       1|       1|       1|   1 8 1|       0| NULL|       1|\n",
      "+-----------+--------+-------+--------+-------+--------+--------+--------+--------+--------+-----+--------+\n",
      "only showing top 20 rows\n",
      "\n"
     ]
    }
   ],
   "source": [
    "df_pyspark=spark.read.csv('output.csv',header=True,inferSchema=True)\n",
    "df_pyspark.show()"
   ]
  },
  {
   "cell_type": "code",
   "execution_count": 29,
   "id": "9c7fab77",
   "metadata": {},
   "outputs": [],
   "source": [
    "##create a temporary view and give it a name\n",
    "df_pyspark.createOrReplaceTempView('vw_pubdec')"
   ]
  },
  {
   "cell_type": "code",
   "execution_count": 41,
   "id": "9dab4265",
   "metadata": {},
   "outputs": [
    {
     "name": "stdout",
     "output_type": "stream",
     "text": [
      "+-------------------+\n",
      "|family_income_range|\n",
      "+-------------------+\n",
      "|             146456|\n",
      "+-------------------+\n",
      "\n"
     ]
    }
   ],
   "source": [
    "##1. What is the count of responders per family income range (show all)?\n",
    "df_ = spark.sql('select count(HEFAMINC)family_income_range from vw_pubdec')\n",
    "df_.show()"
   ]
  },
  {
   "cell_type": "code",
   "execution_count": 42,
   "id": "b14d66e9",
   "metadata": {},
   "outputs": [
    {
     "name": "stdout",
     "output_type": "stream",
     "text": [
      "+---------------------+\n",
      "|geographical_division|\n",
      "+---------------------+\n",
      "|                    0|\n",
      "+---------------------+\n",
      "\n"
     ]
    }
   ],
   "source": [
    "## 2. What is the count of responders per geographical division/location and race (show top 10)?\n",
    "df_ = spark.sql(\"select count(*)geographical_division from vw_pubdec where GEDIV is not NULL\")\n",
    "df_.show()"
   ]
  },
  {
   "cell_type": "code",
   "execution_count": 44,
   "id": "dc680886",
   "metadata": {},
   "outputs": [
    {
     "name": "stdout",
     "output_type": "stream",
     "text": [
      "+----------------+\n",
      "|telephone_access|\n",
      "+----------------+\n",
      "|          140084|\n",
      "+----------------+\n",
      "\n"
     ]
    }
   ],
   "source": [
    "#3. How many responders do not have telephone in their house, but can access\n",
    "df_ = spark.sql(\"select count(*)telephone_access from vw_pubdec where HETELAVL = '1'\")\n",
    "df_.show()"
   ]
  },
  {
   "cell_type": "code",
   "execution_count": 46,
   "id": "07d98194",
   "metadata": {},
   "outputs": [
    {
     "name": "stdout",
     "output_type": "stream",
     "text": [
      "+---------------------+\n",
      "|notelephone_interview|\n",
      "+---------------------+\n",
      "|                28602|\n",
      "+---------------------+\n",
      "\n"
     ]
    }
   ],
   "source": [
    "#4. How many responders can access a telephone, but telephone interview is not accepted?\n",
    "df_ = spark.sql(\"select count(*)notelephone_interview from vw_pubdec where HEPHONEO = '0'\")\n",
    "df_.show()"
   ]
  }
 ],
 "metadata": {
  "kernelspec": {
   "display_name": "Python 3 (ipykernel)",
   "language": "python",
   "name": "python3"
  },
  "language_info": {
   "codemirror_mode": {
    "name": "ipython",
    "version": 3
   },
   "file_extension": ".py",
   "mimetype": "text/x-python",
   "name": "python",
   "nbconvert_exporter": "python",
   "pygments_lexer": "ipython3",
   "version": "3.11.5"
  }
 },
 "nbformat": 4,
 "nbformat_minor": 5
}
